{
 "cells": [
  {
   "cell_type": "markdown",
   "id": "3d9979c0",
   "metadata": {},
   "source": [
    "# Multi-Blockchain Wallet in Python"
   ]
  },
  {
   "cell_type": "markdown",
   "id": "1ffccec7",
   "metadata": {},
   "source": [
    "### Importing Libraries"
   ]
  },
  {
   "cell_type": "code",
   "execution_count": 1,
   "id": "ccf29f14",
   "metadata": {},
   "outputs": [
    {
     "data": {
      "text/plain": [
       "True"
      ]
     },
     "execution_count": 1,
     "metadata": {},
     "output_type": "execute_result"
    }
   ],
   "source": [
    "import subprocess\n",
    "import json\n",
    "from dotenv import load_dotenv\n",
    "import os\n",
    "from constants import *\n",
    "from bit.network import NetworkAPI\n",
    "from bit import Key, PrivateKey, PrivateKeyTestnet\n",
    "from web3 import Web3\n",
    "from web3.middleware import geth_poa_middleware\n",
    "from eth_account import Account\n",
    "load_dotenv('c.env')"
   ]
  },
  {
   "cell_type": "markdown",
   "id": "00a9a998",
   "metadata": {},
   "source": [
    "### Connect to Web3 and load mnemonic"
   ]
  },
  {
   "cell_type": "code",
   "execution_count": 2,
   "id": "21bd752f",
   "metadata": {},
   "outputs": [],
   "source": [
    "w3 = Web3(Web3.HTTPProvider(\"http://127.0.0.1:8545\"))"
   ]
  },
  {
   "cell_type": "code",
   "execution_count": 3,
   "id": "43b89767",
   "metadata": {},
   "outputs": [
    {
     "data": {
      "text/plain": [
       "True"
      ]
     },
     "execution_count": 3,
     "metadata": {},
     "output_type": "execute_result"
    }
   ],
   "source": [
    "w3.isConnected()"
   ]
  },
  {
   "cell_type": "code",
   "execution_count": 4,
   "id": "c833d087",
   "metadata": {},
   "outputs": [],
   "source": [
    "mnemonic = os.getenv('mnemonic')"
   ]
  },
  {
   "cell_type": "code",
   "execution_count": 5,
   "id": "3cdbab16",
   "metadata": {},
   "outputs": [
    {
     "data": {
      "text/plain": [
       "str"
      ]
     },
     "execution_count": 5,
     "metadata": {},
     "output_type": "execute_result"
    }
   ],
   "source": [
    "type(mnemonic)"
   ]
  },
  {
   "cell_type": "code",
   "execution_count": 6,
   "id": "76c7244b",
   "metadata": {},
   "outputs": [],
   "source": [
    "# Create a dictionary object that uses the `derive_wallets` function to derive the selected coins\n",
    "\n",
    "coins = {\"eth\", \"btc-test\", \"btc\"}\n",
    "numderive = 3"
   ]
  },
  {
   "cell_type": "markdown",
   "id": "8d53d3c2",
   "metadata": {},
   "source": [
    "### Create a function that derives the wallet keys"
   ]
  },
  {
   "cell_type": "code",
   "execution_count": 7,
   "id": "3bef7dcc",
   "metadata": {},
   "outputs": [],
   "source": [
    "def derive_wallets(mnemonic, coin, numderive):\n",
    "    command = './derive -g --mnemonic=\"{mnemonic}\" --coin=\"btc-test\" --cols=path,address,privkey,pubkey --format=json'\n",
    "    if coin == \"eth\":\n",
    "        command = './derive -g --mnemonic=\"{mnemonic}\" --coin=\"eth\" --cols=path,address,privkey,pubkey --format=json'\n",
    "    if coin == \"btc\":\n",
    "        command = './derive -g --mnemonic=\"{mnemonic}\" --coin=\"btc\" --cols=path,address,privkey,pubkey --format=json'\n",
    "        \n",
    "    p = subprocess.Popen(command, stdout=subprocess.PIPE, shell=True)\n",
    "    (output, err) = p.communicate()\n",
    "    p_status = p.wait()\n",
    "    keys = json.loads(output)\n",
    "    return keys"
   ]
  },
  {
   "cell_type": "code",
   "execution_count": 8,
   "id": "435e3fdd",
   "metadata": {},
   "outputs": [],
   "source": [
    "keys = {}\n",
    "for coin in coins:\n",
    "    keys[coin] = derive_wallets(os.getenv(\"mnemonic\"), coin, numderive)"
   ]
  },
  {
   "cell_type": "code",
   "execution_count": 9,
   "id": "30074405",
   "metadata": {},
   "outputs": [
    {
     "name": "stdout",
     "output_type": "stream",
     "text": [
      "\"0x9d560f1207789c19a9fbb1c4cf6c8f5828d5b2219034cc7362a3705ab20f2305\"\n",
      "\"cSHtav3eA6CQrMJEK6Z54MdVroQDysvggcES4BLV4RW1HtCgTdCh\"\n"
     ]
    }
   ],
   "source": [
    "eth_Privatekey = keys[\"eth\"][0]['privkey']\n",
    "btc_Privatekey = keys[\"btc-test\"][1]['privkey']\n",
    "\n",
    "print(json.dumps(eth_Privatekey, indent=4, sort_keys=True))\n",
    "print(json.dumps(btc_Privatekey, indent=4, sort_keys=True))"
   ]
  },
  {
   "cell_type": "code",
   "execution_count": 10,
   "id": "741bbed2",
   "metadata": {},
   "outputs": [
    {
     "name": "stdout",
     "output_type": "stream",
     "text": [
      "{\n",
      "    \"btc\": [\n",
      "        {\n",
      "            \"address\": \"15Ji2eBZxbjw7kpeU7A2KXRs2k6wHbaESS\",\n",
      "            \"path\": \"m/44'/0'/0'/0/0\",\n",
      "            \"privkey\": \"KzfiLVcitrrvW7jUcwxKbEHSjsXDKq47X5w3r7uh8DJTThmjZD3R\",\n",
      "            \"pubkey\": \"02fecd1c9636ba4663df6d72b2c3959bee27530807af098173938c608e3c34cd18\"\n",
      "        },\n",
      "        {\n",
      "            \"address\": \"1BVCTgqVXuVUugbJVYi2SVAn1WivewzPT1\",\n",
      "            \"path\": \"m/44'/0'/0'/0/1\",\n",
      "            \"privkey\": \"KxJrcUcg9MyeGmJF8M3QzQ1d5BwzJxj5ErqwbJ4EkapQBzx9RZtx\",\n",
      "            \"pubkey\": \"029ff90cfd29575b78928a39a22ba490236c26044d80584748a5e88ebea81a7c9f\"\n",
      "        },\n",
      "        {\n",
      "            \"address\": \"1HAWgDGTxgd44gb97Hw4KGxuCmnzTPRU4A\",\n",
      "            \"path\": \"m/44'/0'/0'/0/2\",\n",
      "            \"privkey\": \"L4VhtgSRBAQ3zWTd72H5F8MqW1R1E8bTJq3aAxVqzQBrAS5nWnx4\",\n",
      "            \"pubkey\": \"02fac020fed67ceaaa4f8e138a48a2b77334ec7db239f3ecd6584cff1d529938a5\"\n",
      "        },\n",
      "        {\n",
      "            \"address\": \"13HZsdcLSeF8bsLfp8ZU5MeeKyHd7qrLE1\",\n",
      "            \"path\": \"m/44'/0'/0'/0/3\",\n",
      "            \"privkey\": \"L3edFknWVyxJZbpZ3hMmAQ2jFNKJ8pS4AKTDVGCDKpWBNXw9LumQ\",\n",
      "            \"pubkey\": \"022f51845cf80a5c71a2c695f9457c838a5a442253ebca5ce168ab0acfeffa9224\"\n",
      "        },\n",
      "        {\n",
      "            \"address\": \"1DWH882tEuHzj1zkXypQFDfmWzYQPLDQYb\",\n",
      "            \"path\": \"m/44'/0'/0'/0/4\",\n",
      "            \"privkey\": \"KyFvkXuuJBiGUXsUx4cEWwH3ijg8LKiRgFVqqZoEGNz5tzfPLSq1\",\n",
      "            \"pubkey\": \"0312be9e47aedc60dd4707f3d9f9cea400af956f7d3adfd9acdac35115aece0d63\"\n",
      "        },\n",
      "        {\n",
      "            \"address\": \"1LV6Em5HhLSXns2MbBcMjnDJUqG4WCu8gL\",\n",
      "            \"path\": \"m/44'/0'/0'/0/5\",\n",
      "            \"privkey\": \"L4Sr3U8X3F3yR7URJQPyWuBj42ZWePTbNQgcogDM7m3ypsnc16BW\",\n",
      "            \"pubkey\": \"033a448588ce8333bb0c9072c3e3e1c5a51d71368f8d4908e18e51f5bfaf71535f\"\n",
      "        },\n",
      "        {\n",
      "            \"address\": \"14tGEQ1zqmDHrj7MoLC4NEYeKbjTR34hhw\",\n",
      "            \"path\": \"m/44'/0'/0'/0/6\",\n",
      "            \"privkey\": \"L2LrApKYzKgCvKPHU2KvzPjtCsnGuQMEr5Pwr5ffSRXMJ6auRdo8\",\n",
      "            \"pubkey\": \"03d4a29c70adebd60ff4803c990bc0609d1dad329c16ec2a1c9a0de28725b307d0\"\n",
      "        },\n",
      "        {\n",
      "            \"address\": \"1GVGcpHkt23k3bwsTi78kr3UE1goQdvXYU\",\n",
      "            \"path\": \"m/44'/0'/0'/0/7\",\n",
      "            \"privkey\": \"KwhboT9vvrf1m1jd73sbEjymwsC7YKtsNMaHRGZ6BbE1BLt22rb7\",\n",
      "            \"pubkey\": \"0289f6ba6f90868498182855a31e65f70f5d65c8cf58b5f70c46886c5593ca5589\"\n",
      "        },\n",
      "        {\n",
      "            \"address\": \"19F1TXpNnqybBwavZyhQaqXsqWJ9TC1Fvt\",\n",
      "            \"path\": \"m/44'/0'/0'/0/8\",\n",
      "            \"privkey\": \"KwTcbbMDiZkLBSCuueizRmXxcaYAZZ5iex5eXj8KDTJEXDEp6WoN\",\n",
      "            \"pubkey\": \"03098310069f8cbf3ea20592f8b9374e6d7b997830f47e21b230ede535a6a23b05\"\n",
      "        },\n",
      "        {\n",
      "            \"address\": \"14fap7pfdvAMTSYrkL64UJMx2TM4JU3DNJ\",\n",
      "            \"path\": \"m/44'/0'/0'/0/9\",\n",
      "            \"privkey\": \"KxUAtMkMJfqrgRwQbjgFzGibwuDqCc3rEftie14g794oxL4QfyiQ\",\n",
      "            \"pubkey\": \"037445ee920650d25f02a5b01d21380248c11594b59f2dbbdd07c215306bfa545b\"\n",
      "        }\n",
      "    ],\n",
      "    \"btc-test\": [\n",
      "        {\n",
      "            \"address\": \"mkR3RZ8U2RbaPEakrtwQnoK8jSmhFmEYku\",\n",
      "            \"path\": \"m/44'/1'/0'/0/0\",\n",
      "            \"privkey\": \"cV3EfoUo5TJfbS356NhsUB9yTwCcb5YddgCva45uUPHeR1jUuZWF\",\n",
      "            \"pubkey\": \"03b7beb738516433c0bcdca14ccfff5fe0f5b2553f26c38a038a061898225d93e5\"\n",
      "        },\n",
      "        {\n",
      "            \"address\": \"mqvz6G9KMPfDH7Ns5egb9gdAr2anxMJxrF\",\n",
      "            \"path\": \"m/44'/1'/0'/0/1\",\n",
      "            \"privkey\": \"cSHtav3eA6CQrMJEK6Z54MdVroQDysvggcES4BLV4RW1HtCgTdCh\",\n",
      "            \"pubkey\": \"0321a5408464e39b0fc0f04ebe6c9bfae836512684cb440d892211641deaa6308f\"\n",
      "        },\n",
      "        {\n",
      "            \"address\": \"mihaa7rqfKpyxPApY2oNqMN5yNp6isUt3f\",\n",
      "            \"path\": \"m/44'/1'/0'/0/2\",\n",
      "            \"privkey\": \"cQiYawn2MLEZsxvsTzb3J8jGZ1ZFnvMrxVPQoAqKU99PudvfXNPD\",\n",
      "            \"pubkey\": \"029f71291e38f7da532f1b539dc7a122e5862bb8ed1b157597b6c81bed9ca111c7\"\n",
      "        },\n",
      "        {\n",
      "            \"address\": \"mjJcgCFUiPnyBENAz5YpcuHy7hh1doQLRo\",\n",
      "            \"path\": \"m/44'/1'/0'/0/3\",\n",
      "            \"privkey\": \"cUsgpCa31au69zHyFW86UhgEfAdLyzoXmW91hdhV6JAowmWSNcGN\",\n",
      "            \"pubkey\": \"02480779fc9222f4731f25cc304088f09ed599c834b7c4f62e5d485f5537b10cd6\"\n",
      "        },\n",
      "        {\n",
      "            \"address\": \"mmLsyQvfwip4PhgH6EcrxTNcdL35Sy5QUB\",\n",
      "            \"path\": \"m/44'/1'/0'/0/4\",\n",
      "            \"privkey\": \"cUFAnt18ZJDAjWhSbvQx2G4LfA7pitvBiehU8wAT6FQVuoEnrfSH\",\n",
      "            \"pubkey\": \"03310854250f1253ccdd5f1e34d94bfef2dce6112a25e52885d558b0631b0929a7\"\n",
      "        },\n",
      "        {\n",
      "            \"address\": \"miUPdwrRFktmrVE7NkKwfXZK88m6vyQrDW\",\n",
      "            \"path\": \"m/44'/1'/0'/0/5\",\n",
      "            \"privkey\": \"cTYt7MMCiKk1ko2AW8SW1r9ETfGR5A2shxixtAizkMob5fyAaXLi\",\n",
      "            \"pubkey\": \"02629fe622f8563af4c3cc0ea280955da4193cb6ea878085f394e1ea23a8295ce8\"\n",
      "        },\n",
      "        {\n",
      "            \"address\": \"muyUNQdjfqJhSgHBLQrY8j4wxMVYAvLg5g\",\n",
      "            \"path\": \"m/44'/1'/0'/0/6\",\n",
      "            \"privkey\": \"cU45PCGk1umYwzgUmggoWR8zW2u1YqA8ZVgwL2hBEPBig2tYoNFc\",\n",
      "            \"pubkey\": \"023483285a9a87d011ccafbc78d11e32ef92fbe64dcead9191d048baf7232d38ab\"\n",
      "        },\n",
      "        {\n",
      "            \"address\": \"midBc8V1rpmkHBg9gRugcPy13iyG17BCEn\",\n",
      "            \"path\": \"m/44'/1'/0'/0/7\",\n",
      "            \"privkey\": \"cRNANxUwBUNoB6cxoXhBVWhhEZKjFACfqhsSZ7JW4yAycjPn9Phj\",\n",
      "            \"pubkey\": \"03249695c13794cadbe71b33f536cb26f34a21c3bda4f5d0c1ca5607b25136aa57\"\n",
      "        },\n",
      "        {\n",
      "            \"address\": \"myz1CXJqEdnhYBLDagEJHg6i7hn2cJf863\",\n",
      "            \"path\": \"m/44'/1'/0'/0/8\",\n",
      "            \"privkey\": \"cVD1Ba4wKsJXwPe9BU1XAXCMx7V7QiovfoZVZ1sKxHQfG5RELYRY\",\n",
      "            \"pubkey\": \"0274cf11a1becb668419846fd365e63bf09687e545ace28d698c81832dc40315e0\"\n",
      "        },\n",
      "        {\n",
      "            \"address\": \"mw8rJyzDfTGcuzK4hFeFanhxgPEfaFxj8H\",\n",
      "            \"path\": \"m/44'/1'/0'/0/9\",\n",
      "            \"privkey\": \"cQcbCTcnzCa1d5qAYPVavaMck4LFb8Qc4erfFSUopVsGnAZxx272\",\n",
      "            \"pubkey\": \"032ebefb4d5894cbfa2c08db9d4a54bee116e3e3c03627a81056336fd69051fa25\"\n",
      "        }\n",
      "    ],\n",
      "    \"eth\": [\n",
      "        {\n",
      "            \"address\": \"0x503B3648E16a2103Edd7f9A768601c865714B492\",\n",
      "            \"path\": \"m/44'/60'/0'/0/0\",\n",
      "            \"privkey\": \"0x9d560f1207789c19a9fbb1c4cf6c8f5828d5b2219034cc7362a3705ab20f2305\",\n",
      "            \"pubkey\": \"03d5e168399365bc48148d20da4ec05b657ad3915b71ca4aa89f5320debf82c13a\"\n",
      "        },\n",
      "        {\n",
      "            \"address\": \"0xbFDf092Ea03FC2ff3f9D0a8aFf0F567638209C0F\",\n",
      "            \"path\": \"m/44'/60'/0'/0/1\",\n",
      "            \"privkey\": \"0xd9af5591ee64a88e6e48636e970a376f2b596d815ce4009a5ac85a8258e4a996\",\n",
      "            \"pubkey\": \"0274a5828ed27ab2c3b1547adac3add0355023a0f302ad3a80443d20f47151cb63\"\n",
      "        },\n",
      "        {\n",
      "            \"address\": \"0xFD54cD061A3002c075F81D4676C09Cc05b059A10\",\n",
      "            \"path\": \"m/44'/60'/0'/0/2\",\n",
      "            \"privkey\": \"0x30592d92ced0a59059d565a03efec7dd3f4ccf218fc6227ae06d2d5979228cc9\",\n",
      "            \"pubkey\": \"02c31670a8de96f805e25cc6a448c0024569bff55822222063ceed4abbc7edc2c1\"\n",
      "        },\n",
      "        {\n",
      "            \"address\": \"0x471e52916315C3f53E1aE2F1DD833E369B76Dc18\",\n",
      "            \"path\": \"m/44'/60'/0'/0/3\",\n",
      "            \"privkey\": \"0x7ea74f01c4fed25966f7d5b7a1b95c1f7387b3da58ff6a038c44a3d0b8688118\",\n",
      "            \"pubkey\": \"0306df5d9483c02514b32b9c8f17ec31ebf432e71da8f23292bbeb9fba05596fb0\"\n",
      "        },\n",
      "        {\n",
      "            \"address\": \"0x065F1e1944546744C4d9366dF334f6abCF9AbD0f\",\n",
      "            \"path\": \"m/44'/60'/0'/0/4\",\n",
      "            \"privkey\": \"0xad39f93614af33f07e49b10a91f2baa45a58c28222d38f33ab2318ca7561361e\",\n",
      "            \"pubkey\": \"02810a0f5a88f6d502241ced04c9a9e5946f3af45c0a4f8cd9a4e5d9c0abb4cb14\"\n",
      "        },\n",
      "        {\n",
      "            \"address\": \"0x6d71f01815d6dB3Fdc5Be43b3c17B10D8727C358\",\n",
      "            \"path\": \"m/44'/60'/0'/0/5\",\n",
      "            \"privkey\": \"0x2bf5966bf9dd7a7709f575e7a13c1f682d5a15872132e1a929e45b087c426dce\",\n",
      "            \"pubkey\": \"02e84e8e43a414632f3a99387b8bd2f52b5af1da02153e53bba17742d0178b0534\"\n",
      "        },\n",
      "        {\n",
      "            \"address\": \"0x588b0AFd40F2e09473A7d3883E1503B5Cf45b919\",\n",
      "            \"path\": \"m/44'/60'/0'/0/6\",\n",
      "            \"privkey\": \"0xea1250bf69226f04f06cb152a413c62c9d5ea233c6e9c4358b2853963bb1cd73\",\n",
      "            \"pubkey\": \"032f9140b7f6644da3a383222870ad834e5eb511e368be4d4a2aa9c649e44e7b6a\"\n",
      "        },\n",
      "        {\n",
      "            \"address\": \"0x565fEf0a23a3ceF6687a892947C3a439557867aA\",\n",
      "            \"path\": \"m/44'/60'/0'/0/7\",\n",
      "            \"privkey\": \"0x5d2ebbf6f3857014504d09bc2bd2f2fc20e1c11c2cc0a0b1034ef71c5eac8089\",\n",
      "            \"pubkey\": \"0356e2da2e858a1b8cce9736b0367f5e6b893d28caf124ce9ead6b950ecb7c0386\"\n",
      "        },\n",
      "        {\n",
      "            \"address\": \"0x53dbe5c1787B1075ceE681491969879d68B75c8e\",\n",
      "            \"path\": \"m/44'/60'/0'/0/8\",\n",
      "            \"privkey\": \"0x6942bcb19b417cd35289ad96b2dc16f04718d5da9d146888ad918a0f182a0502\",\n",
      "            \"pubkey\": \"03c8bf015342b4e87e6f7d802bd6b99bd7b2aea0af676d9082fba7c33e58566d81\"\n",
      "        },\n",
      "        {\n",
      "            \"address\": \"0x41e71F5E7883478176b0c1b9eE7324e64321F086\",\n",
      "            \"path\": \"m/44'/60'/0'/0/9\",\n",
      "            \"privkey\": \"0x7edc358f28200cb9a647428702b7fd2064970e71515d27d26ea600c5a3d787ff\",\n",
      "            \"pubkey\": \"03564b4bc2202e2f48bfd6a128c3655869228ad042e2ae5ccc60a3cbbde68d00a3\"\n",
      "        }\n",
      "    ]\n",
      "}\n"
     ]
    }
   ],
   "source": [
    "print(json.dumps(keys, indent=4, sort_keys=True))"
   ]
  },
  {
   "cell_type": "markdown",
   "id": "7d0c4903",
   "metadata": {},
   "source": [
    "### Convert the privkey string in a child key to an account object that bit or web3.py can use to transact."
   ]
  },
  {
   "cell_type": "code",
   "execution_count": 11,
   "id": "030176f6",
   "metadata": {},
   "outputs": [],
   "source": [
    "def priv_key_to_account(coin, priv_key):\n",
    "    if coin == ETH:\n",
    "        return Account.privateKeyToAccount(priv_key)\n",
    "    elif coin == BTCTEST:\n",
    "        return PrivateKeyTestnet(priv_key)"
   ]
  },
  {
   "cell_type": "code",
   "execution_count": 12,
   "id": "f6bbb1f3",
   "metadata": {},
   "outputs": [],
   "source": [
    "eth_account = priv_key_to_account(ETH,eth_Privatekey)\n",
    "btc_account = priv_key_to_account(BTCTEST,btc_Privatekey)"
   ]
  },
  {
   "cell_type": "code",
   "execution_count": 13,
   "id": "d17239c6",
   "metadata": {},
   "outputs": [
    {
     "name": "stdout",
     "output_type": "stream",
     "text": [
      "<eth_account.signers.local.LocalAccount object at 0x7fed69c1f670>\n"
     ]
    }
   ],
   "source": [
    "print(eth_account)"
   ]
  },
  {
   "cell_type": "code",
   "execution_count": 14,
   "id": "40feb0bc",
   "metadata": {},
   "outputs": [
    {
     "name": "stdout",
     "output_type": "stream",
     "text": [
      "<PrivateKeyTestnet: mqvz6G9KMPfDH7Ns5egb9gdAr2anxMJxrF>\n"
     ]
    }
   ],
   "source": [
    "print(btc_account)"
   ]
  },
  {
   "cell_type": "markdown",
   "id": "4396a75e",
   "metadata": {},
   "source": [
    "### create the raw, unsigned transaction that contains all metadata needed to transact"
   ]
  },
  {
   "cell_type": "code",
   "execution_count": 15,
   "id": "c26e27c6",
   "metadata": {},
   "outputs": [],
   "source": [
    "def create_tx(coin,account, recipient, amount):\n",
    "    if coin == ETH: \n",
    "        gasEstimate = w3.eth.estimateGas(\n",
    "            {\"from\":eth_account.address, \"to\":recipient, \"value\": amount}\n",
    "        )\n",
    "        return { \n",
    "            \"from\": eth_account.address,\n",
    "            \"to\": recipient,\n",
    "            \"value\": amount,\n",
    "            \"gasPrice\": w3.eth.gasPrice,\n",
    "            \"gas\": gasEstimate,\n",
    "            \"nonce\": w3.eth.getTransactionCount(eth_account.address)\n",
    "        }\n",
    "    elif coin == BTCTEST:\n",
    "        return PrivateKeyTestnet.prepare_transaction(account.address, [(recipient, amount, \"btc\")])"
   ]
  },
  {
   "cell_type": "code",
   "execution_count": 16,
   "id": "90a579fd",
   "metadata": {},
   "outputs": [],
   "source": [
    "def send_tx(coin, account, recipient, amount):\n",
    "    if coin == ETH:\n",
    "        txn = create_tx(coin, account, recipient, amount)\n",
    "        signed_tx = eth_account.signTransaction(txn)\n",
    "        result = w3.eth.sendRawTransaction(signed_tx.rawTransaction)\n",
    "        print(result.hex())\n",
    "        return result.hex()\n",
    "    \n",
    "    elif coin == BTCTEST:\n",
    "        btc_tx = create_tx(coin, account, recipient, amount)\n",
    "        signed_tx = account.sign_transaction(txn)\n",
    "        print(signed_tx)\n",
    "        return NetworkAPI.broadcast_tx_testnet(signed_tx)"
   ]
  },
  {
   "cell_type": "code",
   "execution_count": 17,
   "id": "dbb4d579",
   "metadata": {},
   "outputs": [
    {
     "data": {
      "text/plain": [
       "<PrivateKeyTestnet: mqvz6G9KMPfDH7Ns5egb9gdAr2anxMJxrF>"
      ]
     },
     "execution_count": 17,
     "metadata": {},
     "output_type": "execute_result"
    }
   ],
   "source": [
    "btc_account"
   ]
  },
  {
   "cell_type": "markdown",
   "id": "7be003e9",
   "metadata": {},
   "source": [
    "### Create a function to send tx"
   ]
  },
  {
   "cell_type": "code",
   "execution_count": 20,
   "id": "52f2e01a",
   "metadata": {},
   "outputs": [
    {
     "ename": "InsufficientFunds",
     "evalue": "Balance 7392 is less than 23052 (including fee).",
     "output_type": "error",
     "traceback": [
      "\u001b[0;31m---------------------------------------------------------------------------\u001b[0m",
      "\u001b[0;31mInsufficientFunds\u001b[0m                         Traceback (most recent call last)",
      "\u001b[0;32m<ipython-input-20-6dc24a5b1493>\u001b[0m in \u001b[0;36m<module>\u001b[0;34m\u001b[0m\n\u001b[1;32m      1\u001b[0m \u001b[0;31m# Create BTC transaction\u001b[0m\u001b[0;34m\u001b[0m\u001b[0;34m\u001b[0m\u001b[0;34m\u001b[0m\u001b[0m\n\u001b[0;32m----> 2\u001b[0;31m \u001b[0mcreate_tx\u001b[0m\u001b[0;34m(\u001b[0m\u001b[0mBTCTEST\u001b[0m\u001b[0;34m,\u001b[0m \u001b[0mbtc_account\u001b[0m\u001b[0;34m,\u001b[0m \u001b[0;34m\"mqvz6G9KMPfDH7Ns5egb9gdAr2anxMJxrF\"\u001b[0m\u001b[0;34m,\u001b[0m \u001b[0;36m0.00000000001\u001b[0m\u001b[0;34m)\u001b[0m\u001b[0;34m\u001b[0m\u001b[0;34m\u001b[0m\u001b[0m\n\u001b[0m",
      "\u001b[0;32m<ipython-input-15-8a61a46e72dd>\u001b[0m in \u001b[0;36mcreate_tx\u001b[0;34m(coin, account, recipient, amount)\u001b[0m\n\u001b[1;32m     13\u001b[0m         }\n\u001b[1;32m     14\u001b[0m     \u001b[0;32melif\u001b[0m \u001b[0mcoin\u001b[0m \u001b[0;34m==\u001b[0m \u001b[0mBTCTEST\u001b[0m\u001b[0;34m:\u001b[0m\u001b[0;34m\u001b[0m\u001b[0;34m\u001b[0m\u001b[0m\n\u001b[0;32m---> 15\u001b[0;31m         \u001b[0;32mreturn\u001b[0m \u001b[0mPrivateKeyTestnet\u001b[0m\u001b[0;34m.\u001b[0m\u001b[0mprepare_transaction\u001b[0m\u001b[0;34m(\u001b[0m\u001b[0maccount\u001b[0m\u001b[0;34m.\u001b[0m\u001b[0maddress\u001b[0m\u001b[0;34m,\u001b[0m \u001b[0;34m[\u001b[0m\u001b[0;34m(\u001b[0m\u001b[0mrecipient\u001b[0m\u001b[0;34m,\u001b[0m \u001b[0mamount\u001b[0m\u001b[0;34m,\u001b[0m \u001b[0;34m\"btc\"\u001b[0m\u001b[0;34m)\u001b[0m\u001b[0;34m]\u001b[0m\u001b[0;34m)\u001b[0m\u001b[0;34m\u001b[0m\u001b[0;34m\u001b[0m\u001b[0m\n\u001b[0m",
      "\u001b[0;32m~/opt/anaconda3/envs/Ethereum/lib/python3.8/site-packages/bit/wallet.py\u001b[0m in \u001b[0;36mprepare_transaction\u001b[0;34m(cls, address, outputs, compressed, fee, absolute_fee, leftover, combine, message, unspents, message_is_hex, replace_by_fee)\u001b[0m\n\u001b[1;32m    840\u001b[0m         \u001b[0;34m:\u001b[0m\u001b[0mrtype\u001b[0m\u001b[0;34m:\u001b[0m\u001b[0;31m \u001b[0m\u001b[0;31m`\u001b[0m\u001b[0;31m`\u001b[0m\u001b[0mstr\u001b[0m\u001b[0;31m`\u001b[0m\u001b[0;31m`\u001b[0m\u001b[0;34m\u001b[0m\u001b[0;34m\u001b[0m\u001b[0m\n\u001b[1;32m    841\u001b[0m         \"\"\"\n\u001b[0;32m--> 842\u001b[0;31m         unspents, outputs = sanitize_tx_data(\n\u001b[0m\u001b[1;32m    843\u001b[0m             \u001b[0munspents\u001b[0m \u001b[0;32mor\u001b[0m \u001b[0mNetworkAPI\u001b[0m\u001b[0;34m.\u001b[0m\u001b[0mget_unspent_testnet\u001b[0m\u001b[0;34m(\u001b[0m\u001b[0maddress\u001b[0m\u001b[0;34m)\u001b[0m\u001b[0;34m,\u001b[0m\u001b[0;34m\u001b[0m\u001b[0;34m\u001b[0m\u001b[0m\n\u001b[1;32m    844\u001b[0m             \u001b[0moutputs\u001b[0m\u001b[0;34m,\u001b[0m\u001b[0;34m\u001b[0m\u001b[0;34m\u001b[0m\u001b[0m\n",
      "\u001b[0;32m~/opt/anaconda3/envs/Ethereum/lib/python3.8/site-packages/bit/transaction.py\u001b[0m in \u001b[0;36msanitize_tx_data\u001b[0;34m(unspents, outputs, fee, leftover, combine, message, compressed, absolute_fee, min_change, version, message_is_hex, replace_by_fee)\u001b[0m\n\u001b[1;32m    425\u001b[0m \u001b[0;34m\u001b[0m\u001b[0m\n\u001b[1;32m    426\u001b[0m     \u001b[0;31m# Use Branch-and-Bound for coin selection:\u001b[0m\u001b[0;34m\u001b[0m\u001b[0;34m\u001b[0m\u001b[0;34m\u001b[0m\u001b[0m\n\u001b[0;32m--> 427\u001b[0;31m     unspents[:], remaining = select_coins(\n\u001b[0m\u001b[1;32m    428\u001b[0m         \u001b[0msum_outputs\u001b[0m\u001b[0;34m,\u001b[0m\u001b[0;34m\u001b[0m\u001b[0;34m\u001b[0m\u001b[0m\n\u001b[1;32m    429\u001b[0m         \u001b[0mfee\u001b[0m\u001b[0;34m,\u001b[0m\u001b[0;34m\u001b[0m\u001b[0;34m\u001b[0m\u001b[0m\n",
      "\u001b[0;32m~/opt/anaconda3/envs/Ethereum/lib/python3.8/site-packages/bit/transaction.py\u001b[0m in \u001b[0;36mselect_coins\u001b[0;34m(target, fee, output_size, min_change, absolute_fee, consolidate, unspents)\u001b[0m\n\u001b[1;32m    324\u001b[0m                 \u001b[0;32mbreak\u001b[0m\u001b[0;34m\u001b[0m\u001b[0;34m\u001b[0m\u001b[0m\n\u001b[1;32m    325\u001b[0m         \u001b[0;32melse\u001b[0m\u001b[0;34m:\u001b[0m\u001b[0;34m\u001b[0m\u001b[0;34m\u001b[0m\u001b[0m\n\u001b[0;32m--> 326\u001b[0;31m             raise InsufficientFunds(\n\u001b[0m\u001b[1;32m    327\u001b[0m                 \u001b[0;34m'Balance {} is less than {} (including '\u001b[0m\u001b[0;34m\u001b[0m\u001b[0;34m\u001b[0m\u001b[0m\n\u001b[1;32m    328\u001b[0m                 \u001b[0;34m'fee).'\u001b[0m\u001b[0;34m.\u001b[0m\u001b[0mformat\u001b[0m\u001b[0;34m(\u001b[0m\u001b[0msum\u001b[0m\u001b[0;34m(\u001b[0m\u001b[0mu\u001b[0m\u001b[0;34m.\u001b[0m\u001b[0mamount\u001b[0m \u001b[0;32mfor\u001b[0m \u001b[0mu\u001b[0m \u001b[0;32min\u001b[0m \u001b[0mselected_coins\u001b[0m\u001b[0;34m)\u001b[0m\u001b[0;34m,\u001b[0m \u001b[0mtarget\u001b[0m \u001b[0;34m+\u001b[0m \u001b[0mmin_change\u001b[0m \u001b[0;34m+\u001b[0m \u001b[0mestimated_fee\u001b[0m\u001b[0;34m)\u001b[0m\u001b[0;34m\u001b[0m\u001b[0;34m\u001b[0m\u001b[0m\n",
      "\u001b[0;31mInsufficientFunds\u001b[0m: Balance 7392 is less than 23052 (including fee)."
     ]
    }
   ],
   "source": [
    "# Create BTC transaction\n",
    "create_tx(BTCTEST, btc_account, \"mqvz6G9KMPfDH7Ns5egb9gdAr2anxMJxrF\", 0.000000001)"
   ]
  },
  {
   "cell_type": "code",
   "execution_count": null,
   "id": "7531d17f",
   "metadata": {},
   "outputs": [],
   "source": [
    "# Send BTC transaction\n",
    "send_tx(BTCTEST,btc_account,\"mz73QdYC3vz9Qsecyn5wfVLZbXJAz3GG43\",0.000001)"
   ]
  },
  {
   "cell_type": "markdown",
   "id": "3bc05b8e",
   "metadata": {},
   "source": [
    "### ETH transactions (Due to a bug in web3.py, I sent several transactions with MyCrypto from my local private mining blockchain, since the w3.eth.generateGasPrice() function does not work with an empty chain. The node keystore file is used."
   ]
  },
  {
   "cell_type": "code",
   "execution_count": null,
   "id": "517897ca",
   "metadata": {},
   "outputs": [],
   "source": [
    "#connecting to HTTP with address pk\n",
    "w3.middleware_onion.inject(geth_poa_middleware, layer=0)"
   ]
  },
  {
   "cell_type": "code",
   "execution_count": null,
   "id": "2534d6dc",
   "metadata": {},
   "outputs": [],
   "source": [
    "w3 = Web3(Web3.HTTPProvider(\"http://127.0.0.1:8545\"))"
   ]
  },
  {
   "cell_type": "code",
   "execution_count": null,
   "id": "f1742f27",
   "metadata": {},
   "outputs": [],
   "source": [
    "my_account = \"0x503B3648E16a2103Edd7f9A768601c865714B492\"\n",
    "balance=w3.eth.getBalance(my_account)  # my account my crypto\n",
    "w3.fromWei(balance, \"ether\")"
   ]
  },
  {
   "cell_type": "code",
   "execution_count": null,
   "id": "c67d92ec",
   "metadata": {},
   "outputs": [],
   "source": [
    "w3.isConnected()"
   ]
  },
  {
   "cell_type": "code",
   "execution_count": null,
   "id": "ab2efe6a",
   "metadata": {},
   "outputs": [],
   "source": [
    "w3.eth.blockNumber"
   ]
  },
  {
   "cell_type": "code",
   "execution_count": null,
   "id": "3342b014",
   "metadata": {},
   "outputs": [],
   "source": [
    "w3.eth.getBalance(\"0x503B3648E16a2103Edd7f9A768601c865714B492\")"
   ]
  },
  {
   "cell_type": "code",
   "execution_count": null,
   "id": "4537e30b",
   "metadata": {},
   "outputs": [],
   "source": [
    "eth_account.address"
   ]
  },
  {
   "cell_type": "code",
   "execution_count": null,
   "id": "c4a2549e",
   "metadata": {},
   "outputs": [],
   "source": [
    "create_tx(ETH, eth_account,\"0x503B3648E16a2103Edd7f9A768601c865714B492\", 1000)"
   ]
  },
  {
   "cell_type": "code",
   "execution_count": null,
   "id": "4c38f793",
   "metadata": {},
   "outputs": [],
   "source": [
    "send_tx(ETH, eth_account,\"0xbFDf092Ea03FC2ff3f9D0a8aFf0F567638209C0F\", 1000)"
   ]
  },
  {
   "cell_type": "code",
   "execution_count": null,
   "id": "a74f71fb",
   "metadata": {},
   "outputs": [],
   "source": []
  }
 ],
 "metadata": {
  "kernelspec": {
   "display_name": "Python 3",
   "language": "python",
   "name": "python3"
  },
  "language_info": {
   "codemirror_mode": {
    "name": "ipython",
    "version": 3
   },
   "file_extension": ".py",
   "mimetype": "text/x-python",
   "name": "python",
   "nbconvert_exporter": "python",
   "pygments_lexer": "ipython3",
   "version": "3.8.11"
  }
 },
 "nbformat": 4,
 "nbformat_minor": 5
}
